{
  "nbformat": 4,
  "nbformat_minor": 0,
  "metadata": {
    "kernelspec": {
      "display_name": "Python 3",
      "language": "python",
      "name": "python3"
    },
    "language_info": {
      "codemirror_mode": {
        "name": "ipython",
        "version": 3
      },
      "file_extension": ".py",
      "mimetype": "text/x-python",
      "name": "python",
      "nbconvert_exporter": "python",
      "pygments_lexer": "ipython3",
      "version": "3.6.6"
    },
    "varInspector": {
      "cols": {
        "lenName": 16,
        "lenType": 16,
        "lenVar": 40
      },
      "kernels_config": {
        "python": {
          "delete_cmd_postfix": "",
          "delete_cmd_prefix": "del ",
          "library": "var_list.py",
          "varRefreshCmd": "print(var_dic_list())"
        },
        "r": {
          "delete_cmd_postfix": ") ",
          "delete_cmd_prefix": "rm(",
          "library": "var_list.r",
          "varRefreshCmd": "cat(var_dic_list()) "
        }
      },
      "types_to_exclude": [
        "module",
        "function",
        "builtin_function_or_method",
        "instance",
        "_Feature"
      ],
      "window_display": false
    },
    "colab": {
      "name": "Healthy_food_patterns.ipynb",
      "provenance": [],
      "include_colab_link": true
    }
  },
  "cells": [
    {
      "cell_type": "markdown",
      "metadata": {
        "id": "view-in-github",
        "colab_type": "text"
      },
      "source": [
        "<a href=\"https://colab.research.google.com/github/BrunoChester/data-manipulation/blob/master/Healthy_food_patterns.ipynb\" target=\"_parent\"><img src=\"https://colab.research.google.com/assets/colab-badge.svg\" alt=\"Open In Colab\"/></a>"
      ]
    },
    {
      "cell_type": "markdown",
      "metadata": {
        "id": "q6oU48Wn-95P"
      },
      "source": [
        "*I'm getting my data [World Food Facts](https://www.kaggle.com/openfoodfacts/world-food-facts), an open dataset on Kaggle, which features nutrional information from foods internationally.* "
      ]
    },
    {
      "cell_type": "markdown",
      "metadata": {
        "id": "i6d9TeUj-95Q"
      },
      "source": [
        "I'll be trying to explore the World Food Facts dataset to determine how the US compares to other countries with regards to heathly food patterns (in particular focusing on sugar and addatives)."
      ]
    },
    {
      "cell_type": "code",
      "metadata": {
        "id": "mMnwV9qa-95Q"
      },
      "source": [
        "import sqlite3\n",
        "con = sqlite3.connect(\"database.sqlite\")\n",
        "foods = pd.read_sql_query(\"SELECT * from FoodFacts\", con)"
      ],
      "execution_count": null,
      "outputs": []
    },
    {
      "cell_type": "code",
      "metadata": {
        "id": "Bk3NGrPB-95Q",
        "outputId": "60adbb13-0fba-431c-c4b5-964bbe6014bf"
      },
      "source": [
        "foods.head()"
      ],
      "execution_count": null,
      "outputs": [
        {
          "output_type": "execute_result",
          "data": {
            "text/html": [
              "<div>\n",
              "<style scoped>\n",
              "    .dataframe tbody tr th:only-of-type {\n",
              "        vertical-align: middle;\n",
              "    }\n",
              "\n",
              "    .dataframe tbody tr th {\n",
              "        vertical-align: top;\n",
              "    }\n",
              "\n",
              "    .dataframe thead th {\n",
              "        text-align: right;\n",
              "    }\n",
              "</style>\n",
              "<table border=\"1\" class=\"dataframe\">\n",
              "  <thead>\n",
              "    <tr style=\"text-align: right;\">\n",
              "      <th></th>\n",
              "      <th>code</th>\n",
              "      <th>url</th>\n",
              "      <th>creator</th>\n",
              "      <th>created_t</th>\n",
              "      <th>created_datetime</th>\n",
              "      <th>last_modified_t</th>\n",
              "      <th>last_modified_datetime</th>\n",
              "      <th>product_name</th>\n",
              "      <th>generic_name</th>\n",
              "      <th>quantity</th>\n",
              "      <th>...</th>\n",
              "      <th>caffeine_100g</th>\n",
              "      <th>taurine_100g</th>\n",
              "      <th>ph_100g</th>\n",
              "      <th>fruits_vegetables_nuts_100g</th>\n",
              "      <th>collagen_meat_protein_ratio_100g</th>\n",
              "      <th>cocoa_100g</th>\n",
              "      <th>chlorophyl_100g</th>\n",
              "      <th>carbon_footprint_100g</th>\n",
              "      <th>nutrition_score_fr_100g</th>\n",
              "      <th>nutrition_score_uk_100g</th>\n",
              "    </tr>\n",
              "  </thead>\n",
              "  <tbody>\n",
              "    <tr>\n",
              "      <th>0</th>\n",
              "      <td>000000000000012866</td>\n",
              "      <td>http://world-en.openfoodfacts.org/product/0000...</td>\n",
              "      <td>date-limite-app</td>\n",
              "      <td>1447004364</td>\n",
              "      <td>2015-11-08T17:39:24Z</td>\n",
              "      <td>1447004364</td>\n",
              "      <td>2015-11-08T17:39:24Z</td>\n",
              "      <td>Poêlée à la sarladaise</td>\n",
              "      <td></td>\n",
              "      <td></td>\n",
              "      <td>...</td>\n",
              "      <td></td>\n",
              "      <td></td>\n",
              "      <td></td>\n",
              "      <td></td>\n",
              "      <td></td>\n",
              "      <td></td>\n",
              "      <td></td>\n",
              "      <td></td>\n",
              "      <td></td>\n",
              "      <td></td>\n",
              "    </tr>\n",
              "    <tr>\n",
              "      <th>1</th>\n",
              "      <td>0000000024600</td>\n",
              "      <td>http://world-en.openfoodfacts.org/product/0000...</td>\n",
              "      <td>date-limite-app</td>\n",
              "      <td>1434530704</td>\n",
              "      <td>2015-06-17T08:45:04Z</td>\n",
              "      <td>1434535914</td>\n",
              "      <td>2015-06-17T10:11:54Z</td>\n",
              "      <td>Filet de bœuf</td>\n",
              "      <td></td>\n",
              "      <td>2.46 kg</td>\n",
              "      <td>...</td>\n",
              "      <td></td>\n",
              "      <td></td>\n",
              "      <td></td>\n",
              "      <td></td>\n",
              "      <td></td>\n",
              "      <td></td>\n",
              "      <td></td>\n",
              "      <td></td>\n",
              "      <td></td>\n",
              "      <td></td>\n",
              "    </tr>\n",
              "    <tr>\n",
              "      <th>2</th>\n",
              "      <td>0000000036252</td>\n",
              "      <td>http://world-en.openfoodfacts.org/product/0000...</td>\n",
              "      <td>tacinte</td>\n",
              "      <td>1422221701</td>\n",
              "      <td>2015-01-25T21:35:01Z</td>\n",
              "      <td>1422221855</td>\n",
              "      <td>2015-01-25T21:37:35Z</td>\n",
              "      <td>Lion Peanut x2</td>\n",
              "      <td></td>\n",
              "      <td></td>\n",
              "      <td>...</td>\n",
              "      <td></td>\n",
              "      <td></td>\n",
              "      <td></td>\n",
              "      <td></td>\n",
              "      <td></td>\n",
              "      <td></td>\n",
              "      <td></td>\n",
              "      <td></td>\n",
              "      <td></td>\n",
              "      <td></td>\n",
              "    </tr>\n",
              "    <tr>\n",
              "      <th>3</th>\n",
              "      <td>0000000039259</td>\n",
              "      <td>http://world-en.openfoodfacts.org/product/0000...</td>\n",
              "      <td>tacinte</td>\n",
              "      <td>1422221773</td>\n",
              "      <td>2015-01-25T21:36:13Z</td>\n",
              "      <td>1422221926</td>\n",
              "      <td>2015-01-25T21:38:46Z</td>\n",
              "      <td>Twix x2</td>\n",
              "      <td></td>\n",
              "      <td></td>\n",
              "      <td>...</td>\n",
              "      <td></td>\n",
              "      <td></td>\n",
              "      <td></td>\n",
              "      <td></td>\n",
              "      <td></td>\n",
              "      <td></td>\n",
              "      <td></td>\n",
              "      <td></td>\n",
              "      <td></td>\n",
              "      <td></td>\n",
              "    </tr>\n",
              "    <tr>\n",
              "      <th>4</th>\n",
              "      <td>0000000039529</td>\n",
              "      <td>http://world-en.openfoodfacts.org/product/0000...</td>\n",
              "      <td>teolemon</td>\n",
              "      <td>1420147051</td>\n",
              "      <td>2015-01-01T21:17:31Z</td>\n",
              "      <td>1439141740</td>\n",
              "      <td>2015-08-09T17:35:40Z</td>\n",
              "      <td>Pack de 2 Twix</td>\n",
              "      <td></td>\n",
              "      <td></td>\n",
              "      <td>...</td>\n",
              "      <td></td>\n",
              "      <td></td>\n",
              "      <td></td>\n",
              "      <td></td>\n",
              "      <td></td>\n",
              "      <td></td>\n",
              "      <td></td>\n",
              "      <td></td>\n",
              "      <td></td>\n",
              "      <td></td>\n",
              "    </tr>\n",
              "  </tbody>\n",
              "</table>\n",
              "<p>5 rows × 159 columns</p>\n",
              "</div>"
            ],
            "text/plain": [
              "                 code                                                url  \\\n",
              "0  000000000000012866  http://world-en.openfoodfacts.org/product/0000...   \n",
              "1       0000000024600  http://world-en.openfoodfacts.org/product/0000...   \n",
              "2       0000000036252  http://world-en.openfoodfacts.org/product/0000...   \n",
              "3       0000000039259  http://world-en.openfoodfacts.org/product/0000...   \n",
              "4       0000000039529  http://world-en.openfoodfacts.org/product/0000...   \n",
              "\n",
              "           creator   created_t      created_datetime last_modified_t  \\\n",
              "0  date-limite-app  1447004364  2015-11-08T17:39:24Z      1447004364   \n",
              "1  date-limite-app  1434530704  2015-06-17T08:45:04Z      1434535914   \n",
              "2          tacinte  1422221701  2015-01-25T21:35:01Z      1422221855   \n",
              "3          tacinte  1422221773  2015-01-25T21:36:13Z      1422221926   \n",
              "4         teolemon  1420147051  2015-01-01T21:17:31Z      1439141740   \n",
              "\n",
              "  last_modified_datetime            product_name generic_name quantity  \\\n",
              "0   2015-11-08T17:39:24Z  Poêlée à la sarladaise                         \n",
              "1   2015-06-17T10:11:54Z           Filet de bœuf               2.46 kg   \n",
              "2   2015-01-25T21:37:35Z          Lion Peanut x2                         \n",
              "3   2015-01-25T21:38:46Z                 Twix x2                         \n",
              "4   2015-08-09T17:35:40Z          Pack de 2 Twix                         \n",
              "\n",
              "            ...           caffeine_100g taurine_100g ph_100g  \\\n",
              "0           ...                                                \n",
              "1           ...                                                \n",
              "2           ...                                                \n",
              "3           ...                                                \n",
              "4           ...                                                \n",
              "\n",
              "  fruits_vegetables_nuts_100g collagen_meat_protein_ratio_100g cocoa_100g  \\\n",
              "0                                                                           \n",
              "1                                                                           \n",
              "2                                                                           \n",
              "3                                                                           \n",
              "4                                                                           \n",
              "\n",
              "  chlorophyl_100g carbon_footprint_100g nutrition_score_fr_100g  \\\n",
              "0                                                                 \n",
              "1                                                                 \n",
              "2                                                                 \n",
              "3                                                                 \n",
              "4                                                                 \n",
              "\n",
              "  nutrition_score_uk_100g  \n",
              "0                          \n",
              "1                          \n",
              "2                          \n",
              "3                          \n",
              "4                          \n",
              "\n",
              "[5 rows x 159 columns]"
            ]
          },
          "metadata": {
            "tags": []
          },
          "execution_count": 30
        }
      ]
    },
    {
      "cell_type": "markdown",
      "metadata": {
        "id": "x0cYO0gC-95R"
      },
      "source": [
        "*Open food data is somewhat dirty. Some of the entries have quantitative nutritional data columns populated, while some do not. I'll only work with rows that contain full caloric, sugar, fat, protein, and sodium information.*"
      ]
    },
    {
      "cell_type": "code",
      "metadata": {
        "id": "Qo4i6WVh-95R"
      },
      "source": [
        "quant_foods = foods[(foods.energy_100g != '') & (foods.sugars_100g != '')& (foods.fat_100g != '')\n",
        "      & (foods.proteins_100g != '')& (foods.sodium_100g != '')][['product_name','countries','main_category','energy_100g',\n",
        "                                                                 'sugars_100g','fat_100g', 'proteins_100g',\n",
        "                                                                 'sodium_100g','carbon_footprint_100g']]"
      ],
      "execution_count": null,
      "outputs": []
    },
    {
      "cell_type": "markdown",
      "metadata": {
        "id": "tBlp3CQY-95R"
      },
      "source": [
        "**What percent of global products include quantitative nutritional information**"
      ]
    },
    {
      "cell_type": "code",
      "metadata": {
        "id": "hUa5gANI-95R",
        "outputId": "2219ca5f-8a1c-4ca1-cb7a-8531ecc15193"
      },
      "source": [
        "\"{0:0f}% percent of the food dataset has complete nutritional product information\".format(100*quant_foods.product_name.count()/foods.product_name.count())"
      ],
      "execution_count": null,
      "outputs": [
        {
          "output_type": "execute_result",
          "data": {
            "text/plain": [
              "'48.409996% percent of the food dataset has complete nutritional product information'"
            ]
          },
          "metadata": {
            "tags": []
          },
          "execution_count": 32
        }
      ]
    },
    {
      "cell_type": "markdown",
      "metadata": {
        "id": "ALg3ykZs-95S"
      },
      "source": [
        "*As we've seen earlier, some of the country tags are inconsistent. We'll use the top 10 countries as categories and group the rest into one bucket for the sake of our analysis*"
      ]
    },
    {
      "cell_type": "code",
      "metadata": {
        "id": "rfD_Vp48-95S"
      },
      "source": [
        "top_ten = ['France','España','Deutschland','United Kingdom',\n",
        "           'United States','Belgique','Australia','Suisse','Portugal','Italia']"
      ],
      "execution_count": null,
      "outputs": []
    },
    {
      "cell_type": "code",
      "metadata": {
        "id": "_-V9EEbV-95S"
      },
      "source": [
        "def purify_countries(row):\n",
        "    if row[['countries']].any() in top_ten:\n",
        "        return row['countries']\n",
        "        \n",
        "    else:\n",
        "        return 'Other'"
      ],
      "execution_count": null,
      "outputs": []
    },
    {
      "cell_type": "code",
      "metadata": {
        "id": "WpJajt4R-95S"
      },
      "source": [
        "quant_foods['clean_countries'] = quant_foods.apply(purify_countries, axis=1)\n",
        "ordered_countries = quant_foods['clean_countries'].value_counts().index"
      ],
      "execution_count": null,
      "outputs": []
    },
    {
      "cell_type": "code",
      "metadata": {
        "id": "YUHZ18B_-95T",
        "outputId": "7178af1a-1471-45d6-caa9-18cb78c9b15e"
      },
      "source": [
        "p = sns.countplot(x='clean_countries', data=quant_foods, order=ordered_countries)\n",
        "p.set_xticklabels(p.get_xticklabels(), rotation=60)\n",
        "p.set(xlabel='Countries', ylabel='Count')\n",
        "plt.title('Count of Food Product by Country');"
      ],
      "execution_count": null,
      "outputs": [
        {
          "output_type": "display_data",
          "data": {
            "image/png": "[encoded data removed]",
            "text/plain": [
              "<Figure size 432x288 with 1 Axes>"
            ]
          },
          "metadata": {
            "tags": [],
            "needs_background": "light"
          }
        }
      ]
    },
    {
      "cell_type": "markdown",
      "metadata": {
        "id": "NJd-KFul-95T"
      },
      "source": [
        "*Our dataset predominantly consists of French products*"
      ]
    },
    {
      "cell_type": "markdown",
      "metadata": {
        "id": "Re-wN5yV-95T"
      },
      "source": [
        "**What kind of food categories does our dataset consist of?**"
      ]
    },
    {
      "cell_type": "code",
      "metadata": {
        "id": "EalGJUb2-95T"
      },
      "source": [
        "categories=['en:sugary-snacks','en:dairies','en:fresh-foods','en:beverages'                                \n",
        "'en:groceries','en:meats','en:meals','en:salty-snacks','en:frozen-foods','en:canned-foods','en:fruit-juices'                               \n",
        "'en:desserts','en:breakfasts','en:sandwiches','en:seafood','en:spreads','en:baby-foods','en:dried-products']                             "
      ],
      "execution_count": null,
      "outputs": []
    },
    {
      "cell_type": "code",
      "metadata": {
        "id": "XpkBRP5x-95U"
      },
      "source": [
        "def purify_categories(row):\n",
        "    if row[['main_category']].any() in categories:\n",
        "        return row['main_category'][3:]\n",
        "    elif row['main_category'] == 'en:plant-based-foods-and-beverages':\n",
        "        return 'plant-food-n-bev'\n",
        "    elif row['main_category'] == '':\n",
        "        return 'blank'\n",
        "    else:\n",
        "        return 'other'"
      ],
      "execution_count": null,
      "outputs": []
    },
    {
      "cell_type": "code",
      "metadata": {
        "id": "Rw3I4SDF-95U"
      },
      "source": [
        "quant_foods['category'] = quant_foods.apply(purify_categories, axis=1)"
      ],
      "execution_count": null,
      "outputs": []
    },
    {
      "cell_type": "code",
      "metadata": {
        "id": "pO3VDjdU-95U"
      },
      "source": [
        "ordered_categories = quant_foods['category'].value_counts().index"
      ],
      "execution_count": null,
      "outputs": []
    },
    {
      "cell_type": "code",
      "metadata": {
        "id": "GWckazrU-95U",
        "outputId": "f2ee1317-53e4-467d-afea-d63ac2d076d0"
      },
      "source": [
        "p = sns.countplot(x='category', data=quant_foods, order=ordered_categories)\n",
        "p.set_xticklabels(p.get_xticklabels(), rotation=60)\n",
        "p.set(xlabel='Main Category', ylabel='Count')\n",
        "plt.title('Count of Food Product by Category');"
      ],
      "execution_count": null,
      "outputs": [
        {
          "output_type": "display_data",
          "data": {
            "image/png": "[encoded data removed]",
            "text/plain": [
              "<Figure size 432x288 with 1 Axes>"
            ]
          },
          "metadata": {
            "tags": [],
            "needs_background": "light"
          }
        }
      ]
    },
    {
      "cell_type": "markdown",
      "metadata": {
        "id": "1sh74hVd-95V"
      },
      "source": [
        "*The dataset is predominantly composed of plant-based-food-and-beverages, sugary snacks, and dairies*"
      ]
    },
    {
      "cell_type": "markdown",
      "metadata": {
        "id": "EFSzweiY-95V"
      },
      "source": [
        "**Does the stereotype that the US has the most sugary food and France the least hold up?**"
      ]
    },
    {
      "cell_type": "code",
      "metadata": {
        "id": "Q2_FKPFr-95V",
        "outputId": "e0ba6961-02a6-4722-c571-5f135baa19f6"
      },
      "source": [
        "quant_foods.head()"
      ],
      "execution_count": null,
      "outputs": [
        {
          "output_type": "execute_result",
          "data": {
            "text/html": [
              "<div>\n",
              "<style scoped>\n",
              "    .dataframe tbody tr th:only-of-type {\n",
              "        vertical-align: middle;\n",
              "    }\n",
              "\n",
              "    .dataframe tbody tr th {\n",
              "        vertical-align: top;\n",
              "    }\n",
              "\n",
              "    .dataframe thead th {\n",
              "        text-align: right;\n",
              "    }\n",
              "</style>\n",
              "<table border=\"1\" class=\"dataframe\">\n",
              "  <thead>\n",
              "    <tr style=\"text-align: right;\">\n",
              "      <th></th>\n",
              "      <th>product_name</th>\n",
              "      <th>countries</th>\n",
              "      <th>main_category</th>\n",
              "      <th>energy_100g</th>\n",
              "      <th>sugars_100g</th>\n",
              "      <th>fat_100g</th>\n",
              "      <th>proteins_100g</th>\n",
              "      <th>sodium_100g</th>\n",
              "      <th>carbon_footprint_100g</th>\n",
              "      <th>clean_countries</th>\n",
              "      <th>category</th>\n",
              "    </tr>\n",
              "  </thead>\n",
              "  <tbody>\n",
              "    <tr>\n",
              "      <th>10</th>\n",
              "      <td>Luxury Christmas Pudding</td>\n",
              "      <td>Royaume-Uni</td>\n",
              "      <td>en:desserts</td>\n",
              "      <td>1284</td>\n",
              "      <td>44</td>\n",
              "      <td>7</td>\n",
              "      <td>3.9</td>\n",
              "      <td>0.0787402</td>\n",
              "      <td></td>\n",
              "      <td>Other</td>\n",
              "      <td>other</td>\n",
              "    </tr>\n",
              "    <tr>\n",
              "      <th>11</th>\n",
              "      <td>Luxury Christmas Pudding</td>\n",
              "      <td>United Kingdom</td>\n",
              "      <td>en:sugary-snacks</td>\n",
              "      <td>1284</td>\n",
              "      <td>44</td>\n",
              "      <td>7</td>\n",
              "      <td>3.9</td>\n",
              "      <td>0.0787</td>\n",
              "      <td></td>\n",
              "      <td>United Kingdom</td>\n",
              "      <td>sugary-snacks</td>\n",
              "    </tr>\n",
              "    <tr>\n",
              "      <th>13</th>\n",
              "      <td>Pepsi, Nouveau goût !</td>\n",
              "      <td>France</td>\n",
              "      <td>en:beverages</td>\n",
              "      <td>177</td>\n",
              "      <td>10.4</td>\n",
              "      <td>0</td>\n",
              "      <td>0</td>\n",
              "      <td>0.01</td>\n",
              "      <td></td>\n",
              "      <td>France</td>\n",
              "      <td>other</td>\n",
              "    </tr>\n",
              "    <tr>\n",
              "      <th>14</th>\n",
              "      <td>Cauliflower</td>\n",
              "      <td>United Kingdom</td>\n",
              "      <td>en:plant-based-foods-and-beverages</td>\n",
              "      <td>144</td>\n",
              "      <td>2.5</td>\n",
              "      <td>0.9</td>\n",
              "      <td>3.6</td>\n",
              "      <td>0</td>\n",
              "      <td></td>\n",
              "      <td>United Kingdom</td>\n",
              "      <td>plant-food-n-bev</td>\n",
              "    </tr>\n",
              "    <tr>\n",
              "      <th>16</th>\n",
              "      <td>7Up</td>\n",
              "      <td>France</td>\n",
              "      <td>en:beverages</td>\n",
              "      <td>177</td>\n",
              "      <td>10.4</td>\n",
              "      <td>0</td>\n",
              "      <td>0</td>\n",
              "      <td>0.0393701</td>\n",
              "      <td></td>\n",
              "      <td>France</td>\n",
              "      <td>other</td>\n",
              "    </tr>\n",
              "  </tbody>\n",
              "</table>\n",
              "</div>"
            ],
            "text/plain": [
              "                product_name       countries  \\\n",
              "10  Luxury Christmas Pudding     Royaume-Uni   \n",
              "11  Luxury Christmas Pudding  United Kingdom   \n",
              "13     Pepsi, Nouveau goût !          France   \n",
              "14               Cauliflower  United Kingdom   \n",
              "16                       7Up          France   \n",
              "\n",
              "                         main_category energy_100g sugars_100g fat_100g  \\\n",
              "10                         en:desserts        1284          44        7   \n",
              "11                    en:sugary-snacks        1284          44        7   \n",
              "13                        en:beverages         177        10.4        0   \n",
              "14  en:plant-based-foods-and-beverages         144         2.5      0.9   \n",
              "16                        en:beverages         177        10.4        0   \n",
              "\n",
              "   proteins_100g sodium_100g carbon_footprint_100g clean_countries  \\\n",
              "10           3.9   0.0787402                                 Other   \n",
              "11           3.9      0.0787                        United Kingdom   \n",
              "13             0        0.01                                France   \n",
              "14           3.6           0                        United Kingdom   \n",
              "16             0   0.0393701                                France   \n",
              "\n",
              "            category  \n",
              "10             other  \n",
              "11     sugary-snacks  \n",
              "13             other  \n",
              "14  plant-food-n-bev  \n",
              "16             other  "
            ]
          },
          "metadata": {
            "tags": []
          },
          "execution_count": 42
        }
      ]
    },
    {
      "cell_type": "code",
      "metadata": {
        "id": "xLiwu7p7-95W"
      },
      "source": [
        "quant_foods['sugars_100g'] = quant_foods['sugars_100g'].astype(float)"
      ],
      "execution_count": null,
      "outputs": []
    },
    {
      "cell_type": "code",
      "metadata": {
        "id": "G4GEj3LG-95W",
        "outputId": "5b3978d1-0097-45cd-9b57-18ec16a502d4"
      },
      "source": [
        "p = sns.boxplot(x='clean_countries', y='sugars_100g', data=quant_foods)\n",
        "p.set_xticklabels(p.get_xticklabels(), rotation=60)\n",
        "plt.title('Boxplot of Sugar By Country');"
      ],
      "execution_count": null,
      "outputs": [
        {
          "output_type": "display_data",
          "data": {
            "image/png": "[encoded data removed]",
            "text/plain": [
              "<Figure size 432x288 with 1 Axes>"
            ]
          },
          "metadata": {
            "tags": [],
            "needs_background": "light"
          }
        }
      ]
    },
    {
      "cell_type": "markdown",
      "metadata": {
        "id": "GLedx_Y7-95W"
      },
      "source": [
        "*It looks like the US does have more sugary food; however, Italy comes very close. Although France has less sugar, Germany seems to perform better on this metric*"
      ]
    },
    {
      "cell_type": "markdown",
      "metadata": {
        "id": "vXiJ0bh_-95W"
      },
      "source": [
        "**Let's see if we can fit a poisson distribution. The number of additives in given product in our dataset follows a Poisson distribution because it is a discrete probablity distribution, which fits our story. A poisson describes the number of events in a given time/space, which is a great fit for thinking how many additives are in a product**"
      ]
    },
    {
      "cell_type": "code",
      "metadata": {
        "id": "E3fWn4fW-95X"
      },
      "source": [
        "usa_a = foods[(foods.additives_n!='') & (foods.countries == 'United States')]['additives_n']\n",
        "fr_a = foods[(foods.additives_n!='') & (foods.countries == 'France')]['additives_n']"
      ],
      "execution_count": null,
      "outputs": []
    },
    {
      "cell_type": "code",
      "metadata": {
        "id": "0aF7mZWa-95X",
        "outputId": "fcf189ec-b639-4c7e-9000-f905fd9bbc36"
      },
      "source": [
        "p_model = stats.poisson(usa_a.mean())\n",
        "x = range(30)\n",
        "#we're going to model the hypothetical poission with a lambda that conforms to the mean that we see in our dataset\n",
        "poisson_y = p_model.pmf(x)\n",
        "plt.hist(list(usa_a), bins=10, normed=True)\n",
        "#now we're actually going to overlay the model over the data to see whether our expection that this could be a\n",
        "#a poisson has a basis\n",
        "plot(x, poisson_y,'r')\n",
        "ylabel('Probability')\n",
        "xlabel('Additives per product in the United States');"
      ],
      "execution_count": null,
      "outputs": [
        {
          "output_type": "stream",
          "text": [
            "/Users/dasha/anaconda3/envs/lyft/lib/python3.6/site-packages/matplotlib/axes/_axes.py:6571: UserWarning: The 'normed' kwarg is deprecated, and has been replaced by the 'density' kwarg.\n",
            "  warnings.warn(\"The 'normed' kwarg is deprecated, and has been \"\n"
          ],
          "name": "stderr"
        },
        {
          "output_type": "display_data",
          "data": {
            "image/png": "[encoded data removed]",
            "text/plain": [
              "<Figure size 432x288 with 1 Axes>"
            ]
          },
          "metadata": {
            "tags": [],
            "needs_background": "light"
          }
        }
      ]
    },
    {
      "cell_type": "code",
      "metadata": {
        "id": "yoETwzZJ-95X",
        "outputId": "272ffa3a-9d41-47c8-db3c-0610a93f0c33"
      },
      "source": [
        "p_model = stats.poisson(fr_a.mean())\n",
        "x = range(30)\n",
        "#we're going to model the hypothetical poission with a lambda that conforms to the mean that we see in our dataset\n",
        "poisson_y = p_model.pmf(x)\n",
        "plt.hist(list(fr_a), bins=10, normed=True)\n",
        "#now we're actually going to overlay the model over the data to see whether our expection that this could be a\n",
        "#a poisson has a basis\n",
        "plot(x, poisson_y,'r')\n",
        "ylabel('Probability')\n",
        "xlabel('Additives per product in France');"
      ],
      "execution_count": null,
      "outputs": [
        {
          "output_type": "stream",
          "text": [
            "/Users/dasha/anaconda3/envs/lyft/lib/python3.6/site-packages/matplotlib/axes/_axes.py:6571: UserWarning: The 'normed' kwarg is deprecated, and has been replaced by the 'density' kwarg.\n",
            "  warnings.warn(\"The 'normed' kwarg is deprecated, and has been \"\n"
          ],
          "name": "stderr"
        },
        {
          "output_type": "display_data",
          "data": {
            "image/png": "[encoded data removed]",
            "text/plain": [
              "<Figure size 432x288 with 1 Axes>"
            ]
          },
          "metadata": {
            "tags": [],
            "needs_background": "light"
          }
        }
      ]
    },
    {
      "cell_type": "code",
      "metadata": {
        "id": "qJUuZI7x-95Y",
        "outputId": "2f8815c0-e5fb-41f0-db98-7fb4fef85727"
      },
      "source": [
        "pyplot.hist(list(usa_a), alpha=0.5, label='USA', normed=True)\n",
        "pyplot.hist(list(fr_a),  alpha=0.5, label='France', normed=True)\n",
        "pyplot.legend(loc='upper right')\n",
        "pyplot.show()"
      ],
      "execution_count": null,
      "outputs": [
        {
          "output_type": "stream",
          "text": [
            "/Users/dasha/anaconda3/envs/lyft/lib/python3.6/site-packages/matplotlib/axes/_axes.py:6571: UserWarning: The 'normed' kwarg is deprecated, and has been replaced by the 'density' kwarg.\n",
            "  warnings.warn(\"The 'normed' kwarg is deprecated, and has been \"\n",
            "/Users/dasha/anaconda3/envs/lyft/lib/python3.6/site-packages/matplotlib/axes/_axes.py:6571: UserWarning: The 'normed' kwarg is deprecated, and has been replaced by the 'density' kwarg.\n",
            "  warnings.warn(\"The 'normed' kwarg is deprecated, and has been \"\n"
          ],
          "name": "stderr"
        },
        {
          "output_type": "display_data",
          "data": {
            "image/png": "[encoded data removed]",
            "text/plain": [
              "<Figure size 432x288 with 1 Axes>"
            ]
          },
          "metadata": {
            "tags": [],
            "needs_background": "light"
          }
        }
      ]
    },
    {
      "cell_type": "markdown",
      "metadata": {
        "id": "_Yv-CqCd-95Y"
      },
      "source": [
        "**Earlier we asked ourselves if US and France have different sugar levels on average. We now have the tools to test this with a formal hypothesis test rather than just examining boxplots** "
      ]
    },
    {
      "cell_type": "markdown",
      "metadata": {
        "id": "ODLziGCA-95Z"
      },
      "source": [
        "$H_0: \\mu_F = \\mu_A$  \n",
        "\n",
        "$H_a: \\mu_F \\neq \\mu_A$\n",
        "\n",
        "alpha = .05"
      ]
    },
    {
      "cell_type": "markdown",
      "metadata": {
        "id": "kC1LmqQ6-95Z"
      },
      "source": [
        "*In comparing these two averages, we want to first check the size of our samples, since this will define whether we are free to use a z-test*"
      ]
    },
    {
      "cell_type": "code",
      "metadata": {
        "id": "YBtpZ-oP-95Z"
      },
      "source": [
        "#split up the dataset\n",
        "France = quant_foods[quant_foods.clean_countries=='France']['sugars_100g']\n",
        "America = quant_foods[quant_foods.clean_countries=='United States']['sugars_100g']"
      ],
      "execution_count": null,
      "outputs": []
    },
    {
      "cell_type": "code",
      "metadata": {
        "id": "R6aNmSzg-95Z",
        "outputId": "b70cc502-582f-4bdf-aa18-b56710b266c0"
      },
      "source": [
        "print(len(France), len(America))"
      ],
      "execution_count": null,
      "outputs": [
        {
          "output_type": "stream",
          "text": [
            "23295 1021\n"
          ],
          "name": "stdout"
        }
      ]
    },
    {
      "cell_type": "markdown",
      "metadata": {
        "id": "zUceDozB-95a"
      },
      "source": [
        "*With samples this large, we can feel comfortable that we have enough data to compare the means using the z-test*"
      ]
    },
    {
      "cell_type": "code",
      "metadata": {
        "id": "9rL2_X4P-95a"
      },
      "source": [
        "m1, m2 = America.mean(), France.mean()\n",
        "s1, s2 = America.std(), France.std()\n",
        "n1, n2 = len(America), len(France)"
      ],
      "execution_count": null,
      "outputs": []
    },
    {
      "cell_type": "code",
      "metadata": {
        "id": "Eg4uZWFY-95a",
        "outputId": "7229c89e-c45a-4b3d-993c-970972b93b00"
      },
      "source": [
        "diff = m1 - m2\n",
        "upper_int = diff + 1.96 * np.sqrt ( ( ( s1 **2 )/n1 + (s2 ** 2)/n2 ) )\n",
        "lower_int = diff - 1.96 * np.sqrt ( ( ( s1 **2 )/n1 + (s2 ** 2)/n2 )  )\n",
        "\n",
        "print (lower_int)\n",
        "print (upper_int)"
      ],
      "execution_count": null,
      "outputs": [
        {
          "output_type": "stream",
          "text": [
            "2.8265154743328136\n",
            "5.307175867308134\n"
          ],
          "name": "stdout"
        }
      ]
    },
    {
      "cell_type": "markdown",
      "metadata": {
        "id": "2H2AcQOj-95a"
      },
      "source": [
        ">We are 95% confident that the difference in average sugar content between France and the United States falls between 2 and 5. Because this confidence interval doesn't include 0, we reject the null and conclude that we have enough evidence to suggest that it would be highly unlikely that we would see this sample difference if the two population averages were the same "
      ]
    },
    {
      "cell_type": "markdown",
      "metadata": {
        "id": "mEMwKa5a-95b"
      },
      "source": [
        "Much like we did the above with sugar, we can test if there is a significant difference in the number of additives between France and the United States. We will use the same alpha and set up the same hypthosis test"
      ]
    },
    {
      "cell_type": "code",
      "metadata": {
        "id": "tDE_KtYQ-95b",
        "outputId": "d45bf56a-412a-4599-d45c-75c4275ff550"
      },
      "source": [
        "print(len(fr_a), len(usa_a))"
      ],
      "execution_count": null,
      "outputs": [
        {
          "output_type": "stream",
          "text": [
            "31491 995\n"
          ],
          "name": "stdout"
        }
      ]
    },
    {
      "cell_type": "code",
      "metadata": {
        "id": "ATsuk3Z0-95b"
      },
      "source": [
        "m1, m2 = usa_a.mean(), fr_a.mean()\n",
        "s1, s2 = usa_a.std(), fr_a.std()\n",
        "n1, n2 = len(usa_a), len(fr_a)"
      ],
      "execution_count": null,
      "outputs": []
    },
    {
      "cell_type": "code",
      "metadata": {
        "id": "dBd5k3zJ-95b",
        "outputId": "2aea5263-4b90-42f4-81db-5c6a11b92d9e"
      },
      "source": [
        "diff = m1 - m2\n",
        "upper_int = diff + 1.96 * np.sqrt ( ( ( s1 **2 )/n1 + (s2 ** 2)/n2 ) )\n",
        "lower_int = diff - 1.96 * np.sqrt ( ( ( s1 **2 )/n1 + (s2 ** 2)/n2 )  )\n",
        "\n",
        "print (lower_int)\n",
        "print (upper_int)"
      ],
      "execution_count": null,
      "outputs": [
        {
          "output_type": "stream",
          "text": [
            "0.09239428847575112\n",
            "0.44154874286653745\n"
          ],
          "name": "stdout"
        }
      ]
    },
    {
      "cell_type": "markdown",
      "metadata": {
        "id": "7Zw2I_wn-95c"
      },
      "source": [
        "> Similarily to our sugar test, we can reject the null at our signifiance level as zero doesn't fall into our confidence interval. It does appear that there is likely to be a difference in additives between the US and France."
      ]
    }
  ]
}